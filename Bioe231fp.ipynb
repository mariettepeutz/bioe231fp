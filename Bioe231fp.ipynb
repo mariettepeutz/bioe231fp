{
 "cells": [
  {
   "cell_type": "markdown",
   "metadata": {},
   "source": [
    "## This notebook runs the setup for JBrowse2 using Bash commands."
   ]
  },
  {
   "cell_type": "markdown",
   "metadata": {},
   "source": [
    "### Instructions for Running the Notebook:\n",
    "\n",
    "1. Ensure you have created the APACHE_ROOT environment variable pointing to your Apache root directory.\n",
    "   Example: export APACHE_ROOT='/path/to/apache/root'\n",
    "   If you're unsure of the correct path, you can find it by running:\n",
    "   sudo find / -name \"www\" 2>/dev/null\n",
    "\n",
    "2. Ensure the required dependencies are installed, such as wget, samtools, bowtie2, and jbrowse.\n",
    "\n",
    "3. Modify the APACHE_ROOT and WORKDIR variables in the notebook to reflect your setup.\n",
    "\n",
    "4. Execute the notebook cells in order.\n",
    "\n",
    "Notes:\n",
    "- The notebook assumes you have a JBrowse2 instance installed in the $APACHE_ROOT/jbrowse2 directory.\n",
    "- If any errors occur, the notebook will output the error message and stop execution.\n"
   ]
  },
  {
   "cell_type": "markdown",
   "metadata": {},
   "source": [
    "### Error Handling Function and Setting up Directories"
   ]
  },
  {
   "cell_type": "code",
   "execution_count": 24,
   "metadata": {},
   "outputs": [
    {
     "name": "stdout",
     "output_type": "stream",
     "text": [
      "Working directory: /Users/katebarouch/tmp\n",
      "Apache root directory: /opt/homebrew/var/www\n"
     ]
    }
   ],
   "source": [
    "%%bash\n",
    "set -e  # Stop execution on errors\n",
    "\n",
    "# Define WORKDIR and APACHE_ROOT\n",
    "WORKDIR=\"/Users/katebarouch/tmp\"  # Writable directory\n",
    "mkdir -p \"$WORKDIR\"\n",
    "chmod u+w \"$WORKDIR\"\n",
    "cd \"$WORKDIR\"\n",
    "\n",
    "APACHE_ROOT=\"/opt/homebrew/var/www\"\n",
    "\n",
    "echo \"Working directory: $WORKDIR\"\n",
    "echo \"Apache root directory: $APACHE_ROOT\"\n",
    "\n",
    "# Ensure Apache root exists\n",
    "if [ ! -d \"$APACHE_ROOT/jbrowse2\" ]; then\n",
    "    echo \"Error: JBrowse2 not found at $APACHE_ROOT/jbrowse2. Please check your APACHE_ROOT variable.\"\n",
    "    exit 1\n",
    "fi"
   ]
  },
  {
   "cell_type": "markdown",
   "metadata": {},
   "source": [
    "### Download and Process Dengue Referencec Genome"
   ]
  },
  {
   "cell_type": "code",
   "execution_count": 26,
   "metadata": {},
   "outputs": [
    {
     "name": "stdout",
     "output_type": "stream",
     "text": [
      "Downloading Dengue genome (reference genome)...\n",
      "Decompressing reference genome file...\n",
      "Renaming reference genome file...\n",
      "Indexing reference genome file with samtools...\n"
     ]
    }
   ],
   "source": [
    "%%bash\n",
    "set -e  # Stop execution on errors\n",
    "\n",
    "cd \"/Users/katebarouch/tmp\"  # Ensure you're in the working directory\n",
    "\n",
    "echo \"Downloading Dengue genome (reference genome)...\"\n",
    "wget -q \"https://ftp.ncbi.nlm.nih.gov/genomes/all/GCF/000/862/125/GCF_000862125.1_ViralProj15306/GCF_000862125.1_ViralProj15306_genomic.fna.gz\" -O genome.fna.gz\n",
    "\n",
    "echo \"Decompressing reference genome file...\"\n",
    "gunzip -f genome.fna.gz || exit 1\n",
    "\n",
    "echo \"Renaming reference genome file...\"\n",
    "mv genome.fna viral_genome.fa || exit 1\n",
    "\n",
    "echo \"Indexing reference genome file with samtools...\"\n",
    "samtools faidx viral_genome.fa || exit 1"
   ]
  },
  {
   "cell_type": "markdown",
   "metadata": {},
   "source": [
    "### Add Reference Genome to JBrowse"
   ]
  },
  {
   "cell_type": "code",
   "execution_count": 31,
   "metadata": {},
   "outputs": [
    {
     "name": "stdout",
     "output_type": "stream",
     "text": [
      "viral_genome.fa\n",
      "viral_genome.fa.fai\n",
      "Adding reference genome assembly to JBrowse...\n",
      "Added assembly \"viral_genome\" to /opt/homebrew/var/www/jbrowse2/config.json\n"
     ]
    }
   ],
   "source": [
    "%%bash\n",
    "\n",
    "set -e\n",
    "\n",
    "cd \"/Users/katebarouch/tmp\"  \n",
    "\n",
    "APACHE_ROOT=\"/opt/homebrew/var/www\"\n",
    "\n",
    "echo \"Adding reference genome assembly to JBrowse...\"\n",
    "jbrowse add-assembly viral_genome.fa --out \"$APACHE_ROOT/jbrowse2\" --load copy || exit 1\n"
   ]
  },
  {
   "cell_type": "markdown",
   "metadata": {},
   "source": [
    "### Download and Process Annotations"
   ]
  },
  {
   "cell_type": "code",
   "execution_count": 32,
   "metadata": {},
   "outputs": [
    {
     "name": "stdout",
     "output_type": "stream",
     "text": [
      "Downloading genome annotations...\n",
      "Decompressing annotations file...\n",
      "Sorting GFF3 annotations...\n",
      "Compressing sorted GFF3 file...\n",
      "Indexing compressed GFF3 file with tabix...\n",
      "Adding annotations track to JBrowse...\n",
      "Added track with name \"genes.gff\" and trackId \"genes.gff\" to /opt/homebrew/var/www/jbrowse2/config.json\n"
     ]
    }
   ],
   "source": [
    "%%bash\n",
    "\n",
    "set -e\n",
    "\n",
    "cd \"/Users/katebarouch/tmp\"  \n",
    "\n",
    "\n",
    "APACHE_ROOT=\"/opt/homebrew/var/www\"\n",
    "\n",
    "echo \"Downloading genome annotations...\"\n",
    "wget -q \"https://ftp.ncbi.nlm.nih.gov/genomes/all/GCF/000/862/125/GCF_000862125.1_ViralProj15306/GCF_000862125.1_ViralProj15306_genomic.gff.gz\" -O annotations.gff.gz || exit 1\n",
    "\n",
    "echo \"Decompressing annotations file...\"\n",
    "gunzip -f annotations.gff.gz || exit 1\n",
    "\n",
    "echo \"Sorting GFF3 annotations...\"\n",
    "jbrowse sort-gff annotations.gff > genes.gff || exit 1\n",
    "\n",
    "echo \"Compressing sorted GFF3 file...\"\n",
    "bgzip -f genes.gff || exit 1\n",
    "\n",
    "echo \"Indexing compressed GFF3 file with tabix...\"\n",
    "tabix genes.gff.gz || exit 1\n",
    "\n",
    "echo \"Adding annotations track to JBrowse...\"\n",
    "jbrowse add-track genes.gff.gz --out \"$APACHE_ROOT/jbrowse2\" --load copy || exit 1\n",
    "\n"
   ]
  }
 ],
 "metadata": {
  "kernelspec": {
   "display_name": "Python 3",
   "language": "python",
   "name": "python3"
  },
  "language_info": {
   "codemirror_mode": {
    "name": "ipython",
    "version": 3
   },
   "file_extension": ".py",
   "mimetype": "text/x-python",
   "name": "python",
   "nbconvert_exporter": "python",
   "pygments_lexer": "ipython3",
   "version": "3.10.10"
  }
 },
 "nbformat": 4,
 "nbformat_minor": 2
}
