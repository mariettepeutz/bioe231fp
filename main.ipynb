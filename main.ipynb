# Jupyter Notebook -- do we like this better than just a bash file? Prettier?

# This notebook runs the setup for JBrowse2 using Bash commands.

# Instructions for Running the Notebook:
"""
1. Ensure you have created the APACHE_ROOT environment variable pointing to your Apache root directory.
   Example: export APACHE_ROOT='/path/to/apache/root'
   If you're unsure of the correct path, you can find it by running:
   sudo find / -name "www" 2>/dev/null

2. Ensure the required dependencies are installed, such as wget, samtools, bowtie2, and jbrowse.

3. Modify the APACHE_ROOT and WORKDIR variables in the notebook to reflect your setup.

4. Execute the notebook cells in order.

Notes:
- The notebook assumes you have a JBrowse2 instance installed in the $APACHE_ROOT/jbrowse2 directory.
- If any errors occur, the notebook will output the error message and stop execution.
"""

# Import required libraries
from pathlib import Path

# Define directories
WORKDIR = Path().resolve()  # Current working directory
APACHE_ROOT = Path("/opt/homebrew/var/www")  # Change if your Apache root is different

print(f"Working directory set to: {WORKDIR}")
print(f"Apache root directory: {APACHE_ROOT}")

# Bash commands for setting up JBrowse2
commands = f"""
# Remove existing JBrowse2 directory and reinitialize
echo "Removing existing JBrowse2 directory..."
rm -rf "{APACHE_ROOT}/jbrowse2"
jbrowse create "{APACHE_ROOT}/jbrowse2"

# Download and Process the Reference Genome
echo "Downloading Dengue genome (reference genome)..."
wget -q "https://ftp.ncbi.nlm.nih.gov/genomes/all/GCF/000/862/125/GCF_000862125.1_ViralProj15306/GCF_000862125.1_ViralProj15306_genomic.fna.gz" -O {WORKDIR}/genome.fna.gz

echo "Unzipping reference genome file..."
gunzip -f {WORKDIR}/genome.fna.gz

echo "Renaming reference genome file..."
mv {WORKDIR}/genome.fna {WORKDIR}/viral_genome.fa

echo "Indexing reference genome file with samtools..."
samtools faidx {WORKDIR}/viral_genome.fa

echo "Building Bowtie2 index for reference genome..."
bowtie2-build {WORKDIR}/viral_genome.fa {WORKDIR}/viral_genome

# Add Reference Genome Assembly to JBrowse
echo "Adding reference genome assembly to JBrowse..."
jbrowse add-assembly {WORKDIR}/viral_genome.fa --out {APACHE_ROOT}/jbrowse2 --load copy

# Download and Process Annotations
echo "Downloading genome annotations..."
wget -q "https://ftp.ncbi.nlm.nih.gov/genomes/all/GCF/000/862/125/GCF_000862125.1_ViralProj15306/GCF_000862125.1_ViralProj15306_genomic.gff.gz" -O {WORKDIR}/annotations.gff.gz

echo "Decompressing annotations file..."
gunzip -f {WORKDIR}/annotations.gff.gz

echo "Sorting GFF3 annotations..."
jbrowse sort-gff {WORKDIR}/annotations.gff > {WORKDIR}/genes.gff

echo "Compressing sorted GFF3 file..."
bgzip -f {WORKDIR}/genes.gff

echo "Indexing compressed GFF3 file with tabix..."
tabix {WORKDIR}/genes.gff.gz

echo "Adding annotations track to JBrowse..."
jbrowse add-track {WORKDIR}/genes.gff.gz --out {APACHE_ROOT}/jbrowse2 --load copy

# Align Comparison Genome to Reference Genome
echo "Downloading comparison genome FASTA file..."
wget -q "https://ftp.ncbi.nlm.nih.gov/genomes/all/GCF/000/862/125/GCF_000862125.1_ViralProj15306/GCF_000862125.1_ViralProj15306_genomic.fna.gz" -O {WORKDIR}/comparison_genome.fna

echo "Aligning comparison genome to reference genome using Bowtie2..."
bowtie2 -x {WORKDIR}/viral_genome -f {WORKDIR}/comparison_genome.fna -S {WORKDIR}/comparison_genome.sam

echo "Converting SAM file to BAM file..."
samtools view -bS {WORKDIR}/comparison_genome.sam > {WORKDIR}/comparison_genome.bam

echo "Sorting BAM file..."
samtools sort {WORKDIR}/comparison_genome.bam -o {WORKDIR}/comparison_genome.sorted.bam

echo "Indexing BAM file..."
samtools index {WORKDIR}/comparison_genome.sorted.bam

echo "Adding alignment track to JBrowse..."
jbrowse add-track {WORKDIR}/comparison_genome.sorted.bam --out {APACHE_ROOT}/jbrowse2 --load copy

echo "Setup completed successfully!"
"""

# Execute the Bash commands
from IPython.display import Markdown
from subprocess import run, CalledProcessError

print("Running setup commands...")

try:
    result = run(commands, shell=True, check=True, text=True, executable="/bin/bash")
    print("JBrowse2 setup completed successfully.")
except CalledProcessError as e:
    print(f"An error occurred: {e}")


